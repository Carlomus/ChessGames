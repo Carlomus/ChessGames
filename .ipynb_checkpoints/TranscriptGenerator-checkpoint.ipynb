{
 "cells": [
  {
   "cell_type": "code",
   "execution_count": 6,
   "id": "06a3295d",
   "metadata": {},
   "outputs": [],
   "source": [
    "from youtube_transcript_api import YouTubeTranscriptApi\n",
    "from pytube import YouTube, Playlist"
   ]
  },
  {
   "cell_type": "code",
   "execution_count": 11,
   "id": "b34c630c",
   "metadata": {},
   "outputs": [],
   "source": [
    "plName1 ='PLT1F2nOxLHOcmi_qi1BbY6axf5xLFEcit' #SpeedRun       -SenseiDanya\n",
    "plName2 ='PLT1F2nOxLHOfQ-eoJTpyvKkQFwYewDduj' #Beg to Master  -SenseiDanya\n",
    "plName3 ='PLT1F2nOxLHOefj_z54LNBpnASnIROm43e' #MasterClass    -OhMyLands\n",
    "plName4 ='PLT1F2nOxLHOeyyw85utYJpWtSmxvA-2WR' #Sensei         -SenseiDanya\n",
    "plName5 ='PLT1F2nOxLHOc80pNT3XH1xUDyeom46R3X' #TopTheory      -FrankfurtAirport"
   ]
  },
  {
   "cell_type": "code",
   "execution_count": 19,
   "id": "22e96635",
   "metadata": {},
   "outputs": [],
   "source": [
    "list_playlist_link = [plName1,\n",
    "                     plName2,\n",
    "                     plName3,\n",
    "                     plName4,\n",
    "                     plName5\n",
    "                    ]\n",
    "\n",
    "\n",
    "listIDs = []\n",
    "PlaylistStart = \"https://www.youtube.com/playlist?list=\"\n",
    "marker = \"watch?v=\"\n",
    "\n",
    "for playlist_link in list_playlist_link:\n",
    "    video_links = Playlist(PlaylistStart + playlist_link).video_urls\n",
    "    video_ids = []\n",
    "    for i in video_links:\n",
    "        vidId = i[i.find(marker) + len(marker):]\n",
    "        video_ids.append(vidId)\n",
    "        \n",
    "    listIDs = listIDs + video_ids"
   ]
  },
  {
   "cell_type": "code",
   "execution_count": 21,
   "id": "2bd28bc3",
   "metadata": {},
   "outputs": [
    {
     "name": "stdout",
     "output_type": "stream",
     "text": [
      "-t1i9fKUUiI\n"
     ]
    }
   ],
   "source": [
    "errorID = []\n",
    "for vidID in listIDs:\n",
    "\n",
    "    try:\n",
    "        transcript  = YouTubeTranscriptApi.get_transcript(vidID)\n",
    "    except:\n",
    "        errorID.append(vidID)\n",
    "        print(vidID)\n",
    "    \n",
    "        \n",
    "    fullTxt = \"\"\n",
    "    for section in transcript:\n",
    "        fullTxt += section['text'] + '\\n'\n",
    "        \n",
    "    with open(\"Transcripts/\" + vidID + \".txt\", 'w') as f:\n",
    "        f.write(fullTxt)"
   ]
  },
  {
   "cell_type": "code",
   "execution_count": null,
   "id": "7c472a52",
   "metadata": {},
   "outputs": [],
   "source": []
  }
 ],
 "metadata": {
  "kernelspec": {
   "display_name": "Python 3 (ipykernel)",
   "language": "python",
   "name": "python3"
  },
  "language_info": {
   "codemirror_mode": {
    "name": "ipython",
    "version": 3
   },
   "file_extension": ".py",
   "mimetype": "text/x-python",
   "name": "python",
   "nbconvert_exporter": "python",
   "pygments_lexer": "ipython3",
   "version": "3.7.13"
  }
 },
 "nbformat": 4,
 "nbformat_minor": 5
}

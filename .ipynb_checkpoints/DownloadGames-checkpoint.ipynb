{
 "cells": [
  {
   "cell_type": "code",
   "execution_count": 121,
   "id": "c5e1d849",
   "metadata": {},
   "outputs": [],
   "source": [
    "import urllib\n",
    "import urllib.request\n",
    "import os"
   ]
  },
  {
   "cell_type": "code",
   "execution_count": 123,
   "id": "a60e6eb0",
   "metadata": {},
   "outputs": [],
   "source": [
    "dir1 = \"GamesPGN/\"\n",
    "dir2 = \"IndividualGames/\"\n",
    "\n",
    "for f in os.listdir(dir1)[1:]:\n",
    "    os.remove(dir1 + f)\n",
    "    \n",
    "for f in os.listdir(dir2)[1:]:\n",
    "    os.remove(dir1 + f)"
   ]
  },
  {
   "cell_type": "code",
   "execution_count": 124,
   "id": "74fb2f06",
   "metadata": {},
   "outputs": [],
   "source": [
    "usernameList = [\n",
    "#'SenseiDanya',\n",
    "'OhMyLands',\n",
    "'FrankfurtAirport',\n",
    "]\n",
    "\n",
    "\n",
    "for username in usernameList:\n",
    "\n",
    "    baseUrl = \"https://api.chess.com/pub/player/\" + username + \"/games/\"\n",
    "    archivesUrl = baseUrl + \"archives\"\n",
    "\n",
    "    #read the archives url and store in a list\n",
    "    f = urllib.request.urlopen(archivesUrl)\n",
    "    archives = f.read().decode(\"utf-8\")\n",
    "    archives = archives.replace(\"{\\\"archives\\\":[\", \"\")\n",
    "    archives = archives.replace(\"\\\"]}\", \"\")\n",
    "    archives = archives.replace(\"\\\"\", \"\")\n",
    "    archivesList = archives.split(',')\n",
    "    archivesList = [i for i in archivesList]\n",
    "\n",
    "    #download all the archives\n",
    "    for i, name in enumerate(archivesList):\n",
    "        \n",
    "        url = name + \"/pgn\"\n",
    "        filename = username + str(i)\n",
    "        urllib.request.urlretrieve(url, dir1 +  filename + \".pgn\")\n"
   ]
  },
  {
   "cell_type": "code",
   "execution_count": 125,
   "id": "a52df20b",
   "metadata": {},
   "outputs": [
    {
     "ename": "PermissionError",
     "evalue": "[Errno 13] Permission denied: 'GamesPGN/.ipynb_checkpoints'",
     "output_type": "error",
     "traceback": [
      "\u001b[1;31m---------------------------------------------------------------------------\u001b[0m",
      "\u001b[1;31mPermissionError\u001b[0m                           Traceback (most recent call last)",
      "\u001b[1;32m~\\AppData\\Local\\Temp\\ipykernel_26256\\1716930208.py\u001b[0m in \u001b[0;36m<module>\u001b[1;34m\u001b[0m\n\u001b[0;32m      5\u001b[0m \u001b[1;33m\u001b[0m\u001b[0m\n\u001b[0;32m      6\u001b[0m \u001b[1;32mfor\u001b[0m \u001b[0mf\u001b[0m \u001b[1;32min\u001b[0m \u001b[0mfiles\u001b[0m\u001b[1;33m:\u001b[0m\u001b[1;33m\u001b[0m\u001b[1;33m\u001b[0m\u001b[0m\n\u001b[1;32m----> 7\u001b[1;33m     \u001b[1;32mwith\u001b[0m \u001b[0mopen\u001b[0m\u001b[1;33m(\u001b[0m\u001b[0mdir1\u001b[0m \u001b[1;33m+\u001b[0m \u001b[0mf\u001b[0m\u001b[1;33m,\u001b[0m \u001b[1;34m'r'\u001b[0m\u001b[1;33m)\u001b[0m \u001b[1;32mas\u001b[0m \u001b[0minfile\u001b[0m\u001b[1;33m:\u001b[0m\u001b[1;33m\u001b[0m\u001b[1;33m\u001b[0m\u001b[0m\n\u001b[0m\u001b[0;32m      8\u001b[0m         \u001b[0mnext\u001b[0m\u001b[1;33m(\u001b[0m\u001b[0minfile\u001b[0m\u001b[1;33m)\u001b[0m \u001b[1;31m#Skip the first header so we do not save\u001b[0m\u001b[1;33m\u001b[0m\u001b[1;33m\u001b[0m\u001b[0m\n\u001b[0;32m      9\u001b[0m         \u001b[0mgame\u001b[0m \u001b[1;33m=\u001b[0m \u001b[0mstartGame\u001b[0m \u001b[1;31m#Manually add the line we skipped\u001b[0m\u001b[1;33m\u001b[0m\u001b[1;33m\u001b[0m\u001b[0m\n",
      "\u001b[1;31mPermissionError\u001b[0m: [Errno 13] Permission denied: 'GamesPGN/.ipynb_checkpoints'"
     ]
    }
   ],
   "source": [
    "startGame = \"[Event \\\"Live Chess\\\"]\\n\"\n",
    "\n",
    "files = os.listdir(dir1)\n",
    "gameNumber = 0\n",
    "\n",
    "for f in files:\n",
    "    with open(dir1 + f, 'r') as infile:\n",
    "        next(infile) #Skip the first header so we do not save\n",
    "        game = startGame #Manually add the line we skipped\n",
    "        \n",
    "        for line in infile:\n",
    "            if line == startGame:\n",
    "                with open( dir2 + str(gameNumber), 'w') as outfile:\n",
    "                    outfile.write(game)\n",
    "                gameNumber +=1\n",
    "                game = \"\"\n",
    "            \n",
    "            game += line\n",
    "            \n",
    "        \n",
    "        with open( dir2 + str(gameNumber), 'w') as outfile:\n",
    "            outfile.write(game)\n",
    "            gameNumber +=1\n",
    "            game = \"\"        \n",
    "        "
   ]
  },
  {
   "cell_type": "code",
   "execution_count": null,
   "id": "21a050d3",
   "metadata": {},
   "outputs": [],
   "source": []
  }
 ],
 "metadata": {
  "kernelspec": {
   "display_name": "Python 3 (ipykernel)",
   "language": "python",
   "name": "python3"
  },
  "language_info": {
   "codemirror_mode": {
    "name": "ipython",
    "version": 3
   },
   "file_extension": ".py",
   "mimetype": "text/x-python",
   "name": "python",
   "nbconvert_exporter": "python",
   "pygments_lexer": "ipython3",
   "version": "3.7.13"
  }
 },
 "nbformat": 4,
 "nbformat_minor": 5
}
